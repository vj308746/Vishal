{
 "cells": [
  {
   "cell_type": "code",
   "execution_count": 1,
   "id": "df840dd5",
   "metadata": {},
   "outputs": [
    {
     "data": {
      "text/plain": [
       "True"
      ]
     },
     "execution_count": 1,
     "metadata": {},
     "output_type": "execute_result"
    }
   ],
   "source": [
    "1. Why are functions advantageous to have in your programs?\n",
    "\n",
    "Functions reduce the need for duplicate code. This makes programs shorter, easier to read, and easier to update."
   ]
  },
  {
   "cell_type": "code",
   "execution_count": null,
   "id": "698be7b3",
   "metadata": {},
   "outputs": [],
   "source": [
    "2. When does the code in a function run: when it's specified or when it's called?\n",
    "\n",
    "code is a function run when its called"
   ]
  },
  {
   "cell_type": "code",
   "execution_count": null,
   "id": "ce140c90",
   "metadata": {},
   "outputs": [],
   "source": [
    "3. What statement creates a function?\n",
    "The def statement create the function :\n",
    "    # Function defining\n",
    "def vishal():\n",
    "    print(\"Python baisc assignment no 3\")"
   ]
  },
  {
   "cell_type": "code",
   "execution_count": null,
   "id": "884eb009",
   "metadata": {},
   "outputs": [],
   "source": [
    "4. What is the difference between a function and a function call?\n",
    "\n",
    "A function is procedure to achieve a particular result while function call is using this function to achive that task.\n",
    "\n",
    "# Function defining\n",
    "def vishal():\n",
    "    print(\"Python baisc assignment no 3\")\n",
    "\n",
    "# function calling\n",
    "vishal()"
   ]
  },
  {
   "cell_type": "code",
   "execution_count": 14,
   "id": "25490cd3",
   "metadata": {},
   "outputs": [
    {
     "name": "stdout",
     "output_type": "stream",
     "text": [
      "Python baisc assignment no 3\n"
     ]
    }
   ],
   "source": [
    "def vishal():\n",
    "    print(\"Python baisc assignment no 3\")\n",
    "\n",
    "vishal()"
   ]
  },
  {
   "cell_type": "code",
   "execution_count": null,
   "id": "6de57530",
   "metadata": {},
   "outputs": [],
   "source": [
    "5. How many global scopes are there in a Python program? How many local scopes?\n",
    "There's only one global Python scope per program execution. \n",
    "This scope remains in existence until the program terminates and all its names are forgotten.\n",
    "A local scope is created whenever a function is called.\n"
   ]
  },
  {
   "cell_type": "code",
   "execution_count": null,
   "id": "14fa0a8b",
   "metadata": {},
   "outputs": [],
   "source": [
    "6. What happens to variables in a local scope when the function call returns?\n",
    "\n",
    "A local variable retains its value until the next time the function is called\n",
    "A local variable becomes undefined after the function call completes"
   ]
  },
  {
   "cell_type": "code",
   "execution_count": null,
   "id": "b7b90757",
   "metadata": {},
   "outputs": [],
   "source": [
    "7. What is the concept of a return value? Is it possible to have a return value in an expression?\n",
    "\n",
    "A return is a value that a function returns to the calling script or function when it completes its task. \n",
    "A return value can be any one of the four variable types: handle, integer, object, or string."
   ]
  },
  {
   "cell_type": "code",
   "execution_count": null,
   "id": "8ff047bc",
   "metadata": {},
   "outputs": [],
   "source": [
    "8. If a function does not have a return statement, what is the return value of a call to that function?\n",
    "\n",
    "If a function does not have a return statement it will not return anything"
   ]
  },
  {
   "cell_type": "code",
   "execution_count": null,
   "id": "e5054caf",
   "metadata": {},
   "outputs": [],
   "source": [
    "9. How do you make a function variable refer to the global variable?\n",
    "If you want to refer to a global variable in a function, you can use the global keyword to declare which variables are global."
   ]
  },
  {
   "cell_type": "code",
   "execution_count": null,
   "id": "3f218d05",
   "metadata": {},
   "outputs": [],
   "source": [
    "10. What is the data type of None?\n",
    "\n",
    "None is a data type of its own (NoneType) and only None can be None."
   ]
  },
  {
   "cell_type": "code",
   "execution_count": null,
   "id": "8380558a",
   "metadata": {},
   "outputs": [],
   "source": [
    "11. What does the sentence import areallyourpetsnamederic do?\n",
    "\n",
    "It imports a module named areallyourpetsnamederic."
   ]
  },
  {
   "cell_type": "code",
   "execution_count": null,
   "id": "1fe84d2b",
   "metadata": {},
   "outputs": [],
   "source": [
    "12. If you had a bacon() feature in a spam module, what would you call it after importing spam?\n",
    "\n",
    "This function can be called with spam. bacon()."
   ]
  },
  {
   "cell_type": "code",
   "execution_count": null,
   "id": "48ef5df7",
   "metadata": {},
   "outputs": [],
   "source": [
    "13. What can you do to save a programme from crashing if it encounters an error?\n",
    "\n",
    "TRY EXCEPT clause we can use to save the program from crashing."
   ]
  },
  {
   "cell_type": "code",
   "execution_count": null,
   "id": "94fa54ad",
   "metadata": {},
   "outputs": [],
   "source": [
    "14. What is the purpose of the try clause? What is the purpose of the except clause?\n",
    "\n",
    "The try block allows you to test a block of code for errors. The except block enables you to handle the error with a user-defined response."
   ]
  }
 ],
 "metadata": {
  "kernelspec": {
   "display_name": "Python 3",
   "language": "python",
   "name": "python3"
  },
  "language_info": {
   "codemirror_mode": {
    "name": "ipython",
    "version": 3
   },
   "file_extension": ".py",
   "mimetype": "text/x-python",
   "name": "python",
   "nbconvert_exporter": "python",
   "pygments_lexer": "ipython3",
   "version": "3.8.8"
  }
 },
 "nbformat": 4,
 "nbformat_minor": 5
}
