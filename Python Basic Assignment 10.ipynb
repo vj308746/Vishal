{
 "cells": [
  {
   "cell_type": "code",
   "execution_count": 1,
   "id": "cc3bf16c",
   "metadata": {},
   "outputs": [
    {
     "ename": "SyntaxError",
     "evalue": "invalid syntax (<ipython-input-1-4644f43d9b65>, line 1)",
     "output_type": "error",
     "traceback": [
      "\u001b[1;36m  File \u001b[1;32m\"<ipython-input-1-4644f43d9b65>\"\u001b[1;36m, line \u001b[1;32m1\u001b[0m\n\u001b[1;33m    1. How do you distinguish between shutil.copy() and shutil.copytree()?\u001b[0m\n\u001b[1;37m       ^\u001b[0m\n\u001b[1;31mSyntaxError\u001b[0m\u001b[1;31m:\u001b[0m invalid syntax\n"
     ]
    }
   ],
   "source": [
    "1. How do you distinguish between shutil.copy() and shutil.copytree()?\n",
    "\n",
    "While shutil. copy() will copy a single file, shutil. copytree() will copy an entire folder and every folder and file contained in it.\n"
   ]
  },
  {
   "cell_type": "code",
   "execution_count": null,
   "id": "538b8159",
   "metadata": {},
   "outputs": [],
   "source": [
    "2. What function is used to rename files??\n",
    "\n",
    "rename() method in Python is used to rename a file or directory.\n",
    "This method renames a source file/ directory to specified destination file/directory."
   ]
  },
  {
   "cell_type": "code",
   "execution_count": null,
   "id": "481c7ac4",
   "metadata": {},
   "outputs": [],
   "source": [
    "3. What is the difference between the delete functions in the send2trash and shutil modules?\n",
    "\n",
    "The send2trash functions will move a file or folder to the recycle bin, while shutil functions will permanently delete files and folders.\n",
    "\n",
    "Shutil module provides a funciton called as shutil.rmtree() which deletes a directory and all its contents. The other functions with similar functionality are os.remove() -> removes a file, os.rmdir() removes a empty directory. The problem with these functions is once a file is deleted. it will be lost permanently, if a file is deleted accidentally using these methods there is no way we can recover the deleted file\n",
    "\n",
    "Where as send2trash module provides a function called send2trash.send2trash() to delete a file/directory. these methods moves the files/directories to trash folder instead of permanently deleting them. hence if a file/folder is deleted accidentally it can be still recovered from trash folder, if is deleted using the send2trash.send2trash() function. send2trash is not included with python standard libary like os & shutil modules. it needs to be installed explicitly using the command !pip install send2trash\n"
   ]
  },
  {
   "cell_type": "code",
   "execution_count": null,
   "id": "7e261122",
   "metadata": {},
   "outputs": [],
   "source": [
    "4.ZipFile objects have a close() method just like File objects’ close() method. What ZipFile method is equivalent to File objects’ open() method?\n",
    "\n",
    "ZipFile Module provides a method called as zipfile.ZipFile() to read and write to zipFiles. \n",
    "It takes arugments lile filename and mode etc zipfile.ZipFile('filename', mode = 'r')\n"
   ]
  },
  {
   "cell_type": "code",
   "execution_count": null,
   "id": "c0806921",
   "metadata": {},
   "outputs": [],
   "source": [
    "5. Create a programme that searches a folder tree for files with a certain file extension (such as .pdf or .jpg). Copy these files from whatever location they are in to a new folder."
   ]
  },
  {
   "cell_type": "code",
   "execution_count": 3,
   "id": "66798fb4",
   "metadata": {},
   "outputs": [
    {
     "name": "stdout",
     "output_type": "stream",
     "text": [
      "Folder Name ➞ C:\\Users\\vj308\n",
      "\n",
      "Sub Folders ➞ ['.aws', '.conda', '.idea', '.idlerc', '.ipynb_checkpoints', '.ipython', '.jupyter', '.matplotlib', '.vscode', '3D Objects', 'anaconda3', 'AppData', 'Application Data', 'Contacts', 'Cookies', 'Desktop', 'Documents', 'Downloads', 'Favorites', 'Flight Prediction', 'Links', 'Local Settings', 'Music', 'My Documents', 'NetHood', 'Notepad++', 'OneDrive', 'Postman', 'PrintHood', 'PycharmProjects', 'PythonBaisc', 'pythonProject', 'Recent', 'ReviewFlask', 'Saved Games', 'seaborn-data', 'Searches', 'SendTo', 'Start Menu', 'Templates', 'Videos', '__pycache__']\n",
      "\n",
      "Files ➞ ['1-EDA And Feature Engineering.ipynb', '2- BlackFriday EDA And Feature Engineering.ipynb', 'addresses.csv', 'Assignment 2.ipynb', 'Assignment08.ipynb', 'Assignment3_Python.ipynb', 'BullseyeCoverageError.txt', 'contacts.csv', 'cricket.csv', 'data_description.txt', 'EDA part1.ipynb', 'holiday_schedules.csv', 'LICENSE', 'locations.csv', 'LUSID Excel - Business Agility - Making Simple Changes Quickly & Easily.xlsx', 'LUSID Excel - Maintain a product in multiple currencies and share classes.xlsx', 'LUSID Excel - Manage instruments with economic definitions.xlsx', 'LUSID Excel - Manage Orders.xlsx', 'LUSID Excel - Manage your investment strategies.xlsx', 'LUSID Excel - Setting up your IBOR.xlsx', 'LUSID Excel - Setting up your market data.xlsx', 'mail_addresses.csv', 'My_Module.py', 'NBA.csv', 'NTUSER.DAT', 'ntuser.dat.LOG1', 'ntuser.dat.LOG2', 'NTUSER.DAT{9079fdc7-4ab1-11ec-a567-c4f5c29364ca}.TM.blf', 'NTUSER.DAT{9079fdc7-4ab1-11ec-a567-c4f5c29364ca}.TMContainer00000000000000000001.regtrans-ms', 'NTUSER.DAT{9079fdc7-4ab1-11ec-a567-c4f5c29364ca}.TMContainer00000000000000000002.regtrans-ms', 'ntuser.ini', 'organizations.csv', 'phones.csv', 'programs.csv', 'Python Baisc Assignment 6.ipynb', 'Python basic assignment 04.ipynb', 'Python Basic assignment 05.ipynb', 'Python Basic Assignment 07.ipynb', 'Python Basic Assignment 09.ipynb', 'Python Basic Assignment 10.ipynb', 'README.md', 'regular_schedules.csv', 'sample_submission.csv', 'sample_test.csv', 'services.csv', 'taxonomy.csv', 'test.csv', 'test.log', 'test.txt', 'test2.txt', 'test3.txt', 'train.csv', 'Tuples, set, Dist.ipynb', 'Untitled.ipynb', 'untitled.txt', 'Untitled1.ipynb', 'Untitled10.ipynb', 'Untitled11.ipynb', 'Untitled12.ipynb', 'Untitled13.ipynb', 'Untitled14.ipynb', 'Untitled15.ipynb', 'Untitled16.ipynb', 'Untitled17.ipynb', 'Untitled18.ipynb', 'Untitled19.ipynb', 'Untitled2.ipynb', 'Untitled20.ipynb', 'Untitled21.ipynb', 'Untitled22.ipynb', 'Untitled23.ipynb', 'Untitled24.ipynb', 'Untitled25.ipynb', 'Untitled26.ipynb', 'Untitled27.ipynb', 'Untitled28.ipynb', 'Untitled29.ipynb', 'Untitled3.ipynb', 'Untitled30.ipynb', 'Untitled31.ipynb', 'Untitled32.ipynb', 'Untitled33.ipynb', 'Untitled34.ipynb', 'Untitled35.ipynb', 'Untitled36.ipynb', 'Untitled37.ipynb', 'Untitled38.ipynb', 'Untitled39.ipynb', 'Untitled4.ipynb', 'Untitled40.ipynb', 'Untitled41.ipynb', 'Untitled42.ipynb', 'Untitled43.ipynb', 'Untitled44.ipynb', 'Untitled45.ipynb', 'Untitled46.ipynb', 'Untitled47.ipynb', 'Untitled48.ipynb', 'Untitled49.ipynb', 'Untitled5.ipynb', 'Untitled50.ipynb', 'Untitled51.ipynb', 'Untitled52.ipynb', 'Untitled53.ipynb', 'Untitled54.ipynb', 'Untitled55.ipynb', 'Untitled56.ipynb', 'Untitled57.ipynb', 'Untitled58.ipynb', 'Untitled59.ipynb', 'Untitled6.ipynb', 'Untitled60.ipynb', 'Untitled61.ipynb', 'Untitled62.ipynb', 'Untitled63.ipynb', 'Untitled64.ipynb', 'Untitled65.ipynb', 'Untitled66.ipynb', 'Untitled67.ipynb', 'Untitled68.ipynb', 'Untitled69.ipynb', 'Untitled7.ipynb', 'Untitled70.ipynb', 'Untitled71.ipynb', 'Untitled72.ipynb', 'Untitled73.ipynb', 'Untitled74.ipynb', 'Untitled75.ipynb', 'Untitled8.ipynb', 'Untitled9.ipynb', 'Zomatodataset.zip']\n",
      "\n"
     ]
    },
    {
     "ename": "OSError",
     "evalue": "[Errno 22] Invalid argument: 'C:\\\\Users\\x0bj308\\\\Desktop'",
     "output_type": "error",
     "traceback": [
      "\u001b[1;31m---------------------------------------------------------------------------\u001b[0m",
      "\u001b[1;31mOSError\u001b[0m                                   Traceback (most recent call last)",
      "\u001b[1;32m<ipython-input-3-0c613690e500>\u001b[0m in \u001b[0;36m<module>\u001b[1;34m\u001b[0m\n\u001b[0;32m     19\u001b[0m \u001b[0msource\u001b[0m \u001b[1;33m=\u001b[0m \u001b[1;34m\"C:\\\\Users\\\\vj308\"\u001b[0m\u001b[1;33m\u001b[0m\u001b[1;33m\u001b[0m\u001b[0m\n\u001b[0;32m     20\u001b[0m \u001b[0mdestination\u001b[0m \u001b[1;33m=\u001b[0m \u001b[1;34m\"C:\\\\Users\\vj308\\Desktop\"\u001b[0m\u001b[1;33m\u001b[0m\u001b[1;33m\u001b[0m\u001b[0m\n\u001b[1;32m---> 21\u001b[1;33m \u001b[0msearch_and_copy\u001b[0m\u001b[1;33m(\u001b[0m\u001b[0msource\u001b[0m\u001b[1;33m,\u001b[0m \u001b[0mdestination\u001b[0m\u001b[1;33m,\u001b[0m \u001b[0mextensions\u001b[0m\u001b[1;33m)\u001b[0m\u001b[1;33m\u001b[0m\u001b[1;33m\u001b[0m\u001b[0m\n\u001b[0m",
      "\u001b[1;32m<ipython-input-3-0c613690e500>\u001b[0m in \u001b[0;36msearch_and_copy\u001b[1;34m(source, destination, extensions)\u001b[0m\n\u001b[0;32m     13\u001b[0m             \u001b[1;32mif\u001b[0m \u001b[0mextension\u001b[0m \u001b[1;32min\u001b[0m \u001b[0mextensions\u001b[0m\u001b[1;33m:\u001b[0m\u001b[1;33m\u001b[0m\u001b[1;33m\u001b[0m\u001b[0m\n\u001b[0;32m     14\u001b[0m                 \u001b[0mtargetFile\u001b[0m \u001b[1;33m=\u001b[0m \u001b[0mfoldername\u001b[0m\u001b[1;33m+\u001b[0m\u001b[0mos\u001b[0m\u001b[1;33m.\u001b[0m\u001b[0mpath\u001b[0m\u001b[1;33m.\u001b[0m\u001b[0msep\u001b[0m\u001b[1;33m+\u001b[0m\u001b[0mfileName\u001b[0m\u001b[1;33m+\u001b[0m\u001b[0mextension\u001b[0m\u001b[1;33m\u001b[0m\u001b[1;33m\u001b[0m\u001b[0m\n\u001b[1;32m---> 15\u001b[1;33m                 \u001b[0mshutil\u001b[0m\u001b[1;33m.\u001b[0m\u001b[0mcopy\u001b[0m\u001b[1;33m(\u001b[0m\u001b[0mtargetFile\u001b[0m\u001b[1;33m,\u001b[0m \u001b[0mdestination\u001b[0m\u001b[1;33m)\u001b[0m\u001b[1;33m\u001b[0m\u001b[1;33m\u001b[0m\u001b[0m\n\u001b[0m\u001b[0;32m     16\u001b[0m         \u001b[0mprint\u001b[0m\u001b[1;33m(\u001b[0m\u001b[1;34mf'Files copied successfully from {source} to {destination}'\u001b[0m\u001b[1;33m)\u001b[0m\u001b[1;33m\u001b[0m\u001b[1;33m\u001b[0m\u001b[0m\n\u001b[0;32m     17\u001b[0m \u001b[1;33m\u001b[0m\u001b[0m\n",
      "\u001b[1;32m~\\anaconda3\\lib\\shutil.py\u001b[0m in \u001b[0;36mcopy\u001b[1;34m(src, dst, follow_symlinks)\u001b[0m\n\u001b[0;32m    416\u001b[0m     \u001b[1;32mif\u001b[0m \u001b[0mos\u001b[0m\u001b[1;33m.\u001b[0m\u001b[0mpath\u001b[0m\u001b[1;33m.\u001b[0m\u001b[0misdir\u001b[0m\u001b[1;33m(\u001b[0m\u001b[0mdst\u001b[0m\u001b[1;33m)\u001b[0m\u001b[1;33m:\u001b[0m\u001b[1;33m\u001b[0m\u001b[1;33m\u001b[0m\u001b[0m\n\u001b[0;32m    417\u001b[0m         \u001b[0mdst\u001b[0m \u001b[1;33m=\u001b[0m \u001b[0mos\u001b[0m\u001b[1;33m.\u001b[0m\u001b[0mpath\u001b[0m\u001b[1;33m.\u001b[0m\u001b[0mjoin\u001b[0m\u001b[1;33m(\u001b[0m\u001b[0mdst\u001b[0m\u001b[1;33m,\u001b[0m \u001b[0mos\u001b[0m\u001b[1;33m.\u001b[0m\u001b[0mpath\u001b[0m\u001b[1;33m.\u001b[0m\u001b[0mbasename\u001b[0m\u001b[1;33m(\u001b[0m\u001b[0msrc\u001b[0m\u001b[1;33m)\u001b[0m\u001b[1;33m)\u001b[0m\u001b[1;33m\u001b[0m\u001b[1;33m\u001b[0m\u001b[0m\n\u001b[1;32m--> 418\u001b[1;33m     \u001b[0mcopyfile\u001b[0m\u001b[1;33m(\u001b[0m\u001b[0msrc\u001b[0m\u001b[1;33m,\u001b[0m \u001b[0mdst\u001b[0m\u001b[1;33m,\u001b[0m \u001b[0mfollow_symlinks\u001b[0m\u001b[1;33m=\u001b[0m\u001b[0mfollow_symlinks\u001b[0m\u001b[1;33m)\u001b[0m\u001b[1;33m\u001b[0m\u001b[1;33m\u001b[0m\u001b[0m\n\u001b[0m\u001b[0;32m    419\u001b[0m     \u001b[0mcopymode\u001b[0m\u001b[1;33m(\u001b[0m\u001b[0msrc\u001b[0m\u001b[1;33m,\u001b[0m \u001b[0mdst\u001b[0m\u001b[1;33m,\u001b[0m \u001b[0mfollow_symlinks\u001b[0m\u001b[1;33m=\u001b[0m\u001b[0mfollow_symlinks\u001b[0m\u001b[1;33m)\u001b[0m\u001b[1;33m\u001b[0m\u001b[1;33m\u001b[0m\u001b[0m\n\u001b[0;32m    420\u001b[0m     \u001b[1;32mreturn\u001b[0m \u001b[0mdst\u001b[0m\u001b[1;33m\u001b[0m\u001b[1;33m\u001b[0m\u001b[0m\n",
      "\u001b[1;32m~\\anaconda3\\lib\\shutil.py\u001b[0m in \u001b[0;36mcopyfile\u001b[1;34m(src, dst, follow_symlinks)\u001b[0m\n\u001b[0;32m    262\u001b[0m         \u001b[0mos\u001b[0m\u001b[1;33m.\u001b[0m\u001b[0msymlink\u001b[0m\u001b[1;33m(\u001b[0m\u001b[0mos\u001b[0m\u001b[1;33m.\u001b[0m\u001b[0mreadlink\u001b[0m\u001b[1;33m(\u001b[0m\u001b[0msrc\u001b[0m\u001b[1;33m)\u001b[0m\u001b[1;33m,\u001b[0m \u001b[0mdst\u001b[0m\u001b[1;33m)\u001b[0m\u001b[1;33m\u001b[0m\u001b[1;33m\u001b[0m\u001b[0m\n\u001b[0;32m    263\u001b[0m     \u001b[1;32melse\u001b[0m\u001b[1;33m:\u001b[0m\u001b[1;33m\u001b[0m\u001b[1;33m\u001b[0m\u001b[0m\n\u001b[1;32m--> 264\u001b[1;33m         \u001b[1;32mwith\u001b[0m \u001b[0mopen\u001b[0m\u001b[1;33m(\u001b[0m\u001b[0msrc\u001b[0m\u001b[1;33m,\u001b[0m \u001b[1;34m'rb'\u001b[0m\u001b[1;33m)\u001b[0m \u001b[1;32mas\u001b[0m \u001b[0mfsrc\u001b[0m\u001b[1;33m,\u001b[0m \u001b[0mopen\u001b[0m\u001b[1;33m(\u001b[0m\u001b[0mdst\u001b[0m\u001b[1;33m,\u001b[0m \u001b[1;34m'wb'\u001b[0m\u001b[1;33m)\u001b[0m \u001b[1;32mas\u001b[0m \u001b[0mfdst\u001b[0m\u001b[1;33m:\u001b[0m\u001b[1;33m\u001b[0m\u001b[1;33m\u001b[0m\u001b[0m\n\u001b[0m\u001b[0;32m    265\u001b[0m             \u001b[1;31m# macOS\u001b[0m\u001b[1;33m\u001b[0m\u001b[1;33m\u001b[0m\u001b[1;33m\u001b[0m\u001b[0m\n\u001b[0;32m    266\u001b[0m             \u001b[1;32mif\u001b[0m \u001b[0m_HAS_FCOPYFILE\u001b[0m\u001b[1;33m:\u001b[0m\u001b[1;33m\u001b[0m\u001b[1;33m\u001b[0m\u001b[0m\n",
      "\u001b[1;31mOSError\u001b[0m: [Errno 22] Invalid argument: 'C:\\\\Users\\x0bj308\\\\Desktop'"
     ]
    }
   ],
   "source": [
    "import os\n",
    "import shutil\n",
    "\n",
    "def search_and_copy(source,destination,extensions):\n",
    "    source = os.path.abspath(source)\n",
    "    destination = os.path.abspath(destination)\n",
    "    for foldername, subfolder, filenames in os.walk(source):\n",
    "        print(f'Folder Name ➞ {foldername}',end='\\n\\n')\n",
    "        print(f'Sub Folders ➞ {subfolder}',end='\\n\\n')\n",
    "        print(f'Files ➞ {filenames}',end='\\n\\n')\n",
    "        for filename in filenames:\n",
    "            fileName,extension = os.path.splitext(filename)\n",
    "            if extension in extensions:\n",
    "                targetFile = foldername+os.path.sep+fileName+extension\n",
    "                shutil.copy(targetFile, destination)\n",
    "        print(f'Files copied successfully from {source} to {destination}')\n",
    "    \n",
    "extensions = ['.pdf','.jpg','.ipynb']\n",
    "source = \"C:\\\\Users\\\\vj308\"\n",
    "destination = \"C:\\\\Users\\vj308\\Desktop\"\n",
    "search_and_copy(source, destination, extensions)"
   ]
  },
  {
   "cell_type": "code",
   "execution_count": 6,
   "id": "7ba28610",
   "metadata": {},
   "outputs": [
    {
     "ename": "NameError",
     "evalue": "name 'folder' is not defined",
     "output_type": "error",
     "traceback": [
      "\u001b[1;31m---------------------------------------------------------------------------\u001b[0m",
      "\u001b[1;31mNameError\u001b[0m                                 Traceback (most recent call last)",
      "\u001b[1;32m<ipython-input-6-33e1ba393b13>\u001b[0m in \u001b[0;36m<module>\u001b[1;34m\u001b[0m\n\u001b[0;32m     15\u001b[0m \u001b[0msource\u001b[0m \u001b[1;33m=\u001b[0m \u001b[1;34m\"C:\\\\Users\\\\vj308\"\u001b[0m\u001b[1;33m\u001b[0m\u001b[1;33m\u001b[0m\u001b[0m\n\u001b[0;32m     16\u001b[0m \u001b[0mdestination\u001b[0m \u001b[1;33m=\u001b[0m \u001b[1;34m\"C:\\\\Users\\vj308\\Desktop\"\u001b[0m\u001b[1;33m\u001b[0m\u001b[1;33m\u001b[0m\u001b[0m\n\u001b[1;32m---> 17\u001b[1;33m \u001b[0mselectiveCopy\u001b[0m\u001b[1;33m(\u001b[0m\u001b[0mfolder\u001b[0m\u001b[1;33m,\u001b[0m \u001b[0mextensions\u001b[0m\u001b[1;33m,\u001b[0m \u001b[0mdestFolder\u001b[0m\u001b[1;33m)\u001b[0m\u001b[1;33m\u001b[0m\u001b[1;33m\u001b[0m\u001b[0m\n\u001b[0m",
      "\u001b[1;31mNameError\u001b[0m: name 'folder' is not defined"
     ]
    }
   ],
   "source": [
    "import os, shutil\n",
    "\n",
    "def selectiveCopy(folder, extensions, destFolder):\n",
    "\tfolder = os.path.abspath(folder)\n",
    "\tdestFolder = os.path.abspath(destFolder)\n",
    "\tfor foldername, subfolders, filenames in os.walk(folder):\n",
    "\t\tfor filename in filenames:\n",
    "\t\t\tname, extension = os.path.splitext(filename)\n",
    "\t\t\tif extension in extensions:\n",
    "\t\t\t\tfileAbsPath = foldername + os.path.sep + filename\n",
    "\t\t\t\tprint('Coping', fileAbsPath, 'to', destFolder)\n",
    "\t\t\t\tshutil.copy(fileAbsPath, destFolder)\n",
    "\n",
    "extensions = ['.jpg', '.pdf']\n",
    "source = \"C:\\\\Users\\\\vj308\"\n",
    "destination = \"C:\\\\Users\\vj308\\Desktop\"\n",
    "selectiveCopy(folder, extensions, destFolder)"
   ]
  },
  {
   "cell_type": "code",
   "execution_count": null,
   "id": "973c5fdd",
   "metadata": {},
   "outputs": [],
   "source": []
  }
 ],
 "metadata": {
  "kernelspec": {
   "display_name": "Python 3",
   "language": "python",
   "name": "python3"
  },
  "language_info": {
   "codemirror_mode": {
    "name": "ipython",
    "version": 3
   },
   "file_extension": ".py",
   "mimetype": "text/x-python",
   "name": "python",
   "nbconvert_exporter": "python",
   "pygments_lexer": "ipython3",
   "version": "3.8.8"
  }
 },
 "nbformat": 4,
 "nbformat_minor": 5
}
